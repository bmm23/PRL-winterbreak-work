{
 "cells": [
  {
   "cell_type": "markdown",
   "metadata": {},
   "source": [
    "# Code before exercises"
   ]
  },
  {
   "cell_type": "code",
   "execution_count": 2,
   "metadata": {},
   "outputs": [],
   "source": [
    "import pandas as pd\n",
    "url = \"https://datascience.quantecon.org/assets/data/wdi_data.csv\"\n",
    "df = pd.read_csv(url)"
   ]
  },
  {
   "cell_type": "code",
   "execution_count": 6,
   "metadata": {},
   "outputs": [
    {
     "data": {
      "text/plain": [
       "Consumption         NaN\n",
       "Exports        1.110027\n",
       "GDP                 NaN\n",
       "GovExpend           NaN\n",
       "Imports        1.153402\n",
       "country             NaN\n",
       "year                NaN\n",
       "dtype: float64"
      ]
     },
     "execution_count": 6,
     "metadata": {},
     "output_type": "execute_result"
    }
   ],
   "source": [
    "df_small = df.head(5)\n",
    "df_tiny = df.iloc[[0, 3, 2, 4], :]\n",
    "im_ex = df_small[[\"Imports\", \"Exports\"]]\n",
    "im_ex_copy = im_ex.copy()\n",
    "im_ex_tiny = df_tiny + im_ex\n",
    "\n",
    "im_ex_tiny.mean()"
   ]
  },
  {
   "cell_type": "markdown",
   "metadata": {},
   "source": [
    "# Exercise 1\n",
    "\n",
    "im_ex_tiny.mean() returns the mean for each column. Columns lacking data simply return an NaN value"
   ]
  },
  {
   "cell_type": "markdown",
   "metadata": {},
   "source": [
    "# Exercise 2\n"
   ]
  },
  {
   "cell_type": "code",
   "execution_count": 11,
   "metadata": {},
   "outputs": [
    {
     "name": "stdout",
     "output_type": "stream",
     "text": [
      "<class 'pandas.core.frame.DataFrame'>\n"
     ]
    }
   ],
   "source": [
    "wdi = df.set_index([\"country\", \"year\"])\n",
    "\n",
    "#1\n",
    "first = wdi.loc[[\"United States\", \"Canada\"]]\n",
    "print(type(first))\n",
    "#This returns a dataframe with all values whose index is United States or Canada"
   ]
  },
  {
   "cell_type": "code",
   "execution_count": 15,
   "metadata": {},
   "outputs": [
    {
     "name": "stdout",
     "output_type": "stream",
     "text": [
      "<class 'pandas.core.frame.DataFrame'>\n"
     ]
    }
   ],
   "source": [
    "#2\n",
    "second = wdi.loc[([\"United States\", \"Canada\"], [2010, 2011, 2012]), :]\n",
    "print(type(second))\n",
    "#This returns a dataframe with the indices of US/Canda and with values containing years 2010,2011,2012\n"
   ]
  },
  {
   "cell_type": "code",
   "execution_count": 18,
   "metadata": {},
   "outputs": [
    {
     "name": "stdout",
     "output_type": "stream",
     "text": [
      "<class 'pandas.core.frame.DataFrame'>\n"
     ]
    }
   ],
   "source": [
    "#3\n",
    "third = wdi.loc['United States']\n",
    "print(type(third))\n",
    "#This returns a dataframe with all of the country indices == 'United States'\n",
    "#This also removes that index as this is superfluous data\n"
   ]
  },
  {
   "cell_type": "code",
   "execution_count": 21,
   "metadata": {},
   "outputs": [
    {
     "name": "stdout",
     "output_type": "stream",
     "text": [
      "GDP        14.992053\n",
      "Exports     1.846280\n",
      "Name: (United States, 2010), dtype: float64\n",
      "<class 'pandas.core.series.Series'>\n"
     ]
    }
   ],
   "source": [
    "#4\n",
    "fourth = wdi.loc[(\"United States\", 2010), [\"GDP\", \"Exports\"]]\n",
    "print(fourth)\n",
    "print(type(fourth))\n",
    "#This returns a 2x1 series with GDP and exports for the index US, year=2010\n"
   ]
  },
  {
   "cell_type": "code",
   "execution_count": 25,
   "metadata": {},
   "outputs": [
    {
     "name": "stdout",
     "output_type": "stream",
     "text": [
      "GovExpend       2.510143\n",
      "Consumption    10.185836\n",
      "Exports         1.846280\n",
      "Imports         2.360183\n",
      "GDP            14.992053\n",
      "Name: (United States, 2010), dtype: float64\n",
      "<class 'pandas.core.series.Series'>\n"
     ]
    }
   ],
   "source": [
    "#5\n",
    "fifth = wdi.loc[(\"United States\", 2010)]\n",
    "print(fifth)\n",
    "print(type(fifth))\n",
    "#This returns a series for the year 2010 country='United States'\n"
   ]
  },
  {
   "cell_type": "code",
   "execution_count": 27,
   "metadata": {},
   "outputs": [
    {
     "name": "stdout",
     "output_type": "stream",
     "text": [
      "                    GovExpend  Consumption   Exports   Imports        GDP\n",
      "country       year                                                       \n",
      "United States 2010   2.510143    10.185836  1.846280  2.360183  14.992053\n",
      "Canada        2015   0.358303     1.035208  0.568859  0.575793   1.794270\n",
      "<class 'pandas.core.frame.DataFrame'>\n"
     ]
    }
   ],
   "source": [
    "#6\n",
    "six = wdi.loc[[(\"United States\", 2010), (\"Canada\", 2015)]]\n",
    "print(six)\n",
    "print(type(six))\n",
    "#This returns a dataframe containing two series, US/2010, Canada/2015\n"
   ]
  },
  {
   "cell_type": "code",
   "execution_count": 31,
   "metadata": {},
   "outputs": [
    {
     "name": "stdout",
     "output_type": "stream",
     "text": [
      "<class 'pandas.core.series.Series'>\n"
     ]
    }
   ],
   "source": [
    "#7\n",
    "seven = wdi.loc[[\"United States\", \"Canada\"], \"GDP\"]\n",
    "print(type(seven))\n",
    "#This returns a series with two country indices (US/Canada) and one col value (GDP)\n"
   ]
  },
  {
   "cell_type": "code",
   "execution_count": 34,
   "metadata": {},
   "outputs": [
    {
     "name": "stdout",
     "output_type": "stream",
     "text": [
      "<class 'pandas.core.series.Series'>\n"
     ]
    }
   ],
   "source": [
    "#8\n",
    "Eight = wdi.loc[\"United States\", \"GDP\"]\n",
    "print(type(Eight))\n",
    "#This returns a series with all of the US GDP values\n"
   ]
  },
  {
   "cell_type": "markdown",
   "metadata": {},
   "source": [
    "# Exercise 3"
   ]
  },
  {
   "cell_type": "code",
   "execution_count": 48,
   "metadata": {},
   "outputs": [
    {
     "name": "stdout",
     "output_type": "stream",
     "text": [
      "                    GovExpend  Consumption   Exports   Imports       GDP\n",
      "country       year                                                      \n",
      "Canada        2017   0.154906     0.091143  0.254837  0.195453  0.107684\n",
      "              2016   0.151537     0.090293  0.259644  0.196108  0.106881\n",
      "              2015   0.150983     0.090730  0.255986  0.199835  0.107374\n",
      "              2014   0.151446     0.091994  0.249065  0.209479  0.109728\n",
      "              2013   0.149377     0.092297  0.244516  0.214844  0.109293\n",
      "...                       ...          ...       ...       ...       ...\n",
      "United States 2004   1.000000     1.000000  1.000000  1.000000  1.000000\n",
      "              2003   1.000000     1.000000  1.000000  1.000000  1.000000\n",
      "              2002   1.000000     1.000000  1.000000  1.000000  1.000000\n",
      "              2001   1.000000     1.000000  1.000000  1.000000  1.000000\n",
      "              2000   1.000000     1.000000  1.000000  1.000000  1.000000\n",
      "\n",
      "[72 rows x 5 columns]\n",
      "                    GovExpend   Consumption   Exports   Imports           GDP\n",
      "country       year                                                           \n",
      "Canada        2017   1.387005  1.523980e+01  1.619568  1.960173  2.066099e+02\n",
      "              2016   1.378050  1.353518e+01  1.583538  1.859184  1.701261e+02\n",
      "              2015   1.362946  1.243092e+01  1.574976  1.839208  1.564485e+02\n",
      "              2014   1.349345  1.132143e+01  1.546959  1.777615  1.437772e+02\n",
      "              2013   1.351031  1.034837e+01  1.475403  1.705445  1.200847e+02\n",
      "...                       ...           ...       ...       ...           ...\n",
      "United States 2004   6.406156  1.054215e+09  1.472533  4.821283  6.351379e+15\n",
      "              2003   6.018316  3.573378e+08  1.271810  3.345966  1.019779e+15\n",
      "              2002   5.598135  1.484192e+08  1.233142  2.899499  2.704852e+14\n",
      "              2001   4.850457  7.471793e+07  1.264312  2.624784  1.228850e+14\n",
      "              2000   4.285656  3.895882e+07  1.384935  2.839821  7.866493e+13\n",
      "\n",
      "[72 rows x 5 columns]\n",
      "                    GovExpend  Consumption  Exports  Imports  GDP\n",
      "country       year                                               \n",
      "Canada        2000        NaN          NaN      NaN      NaN  NaN\n",
      "              2001        NaN          NaN      NaN      NaN  NaN\n",
      "              2002        NaN          NaN      NaN      NaN  NaN\n",
      "              2003        NaN          NaN      NaN      NaN  NaN\n",
      "              2004        NaN          NaN      NaN      NaN  NaN\n",
      "...                       ...          ...      ...      ...  ...\n",
      "United States 2013        NaN          NaN      NaN      NaN  NaN\n",
      "              2014        NaN          NaN      NaN      NaN  NaN\n",
      "              2015        NaN          NaN      NaN      NaN  NaN\n",
      "              2016        NaN          NaN      NaN      NaN  NaN\n",
      "              2017        NaN          NaN      NaN      NaN  NaN\n",
      "\n",
      "[72 rows x 5 columns]\n"
     ]
    }
   ],
   "source": [
    "my_df = wdi.loc[\"United States\"]\n",
    "print(wdi / my_df)\n",
    "print(my_df ** wdi)\n",
    "\n",
    "my_df = wdi.loc[[(\"United States\", 2010), (\"Canada\", 2015)]]\n",
    "print(wdi / my_df)\n",
    "\n",
    "#Applies operation where it can, sets values to NaN otherwise\n"
   ]
  },
  {
   "cell_type": "markdown",
   "metadata": {},
   "source": [
    "# Exercise 4"
   ]
  },
  {
   "cell_type": "code",
   "execution_count": 103,
   "metadata": {},
   "outputs": [
    {
     "data": {
      "text/plain": [
       "year  country      \n",
       "2017  United States    17.348627\n",
       "2016  United States    16.972348\n",
       "2015  United States    16.710459\n",
       "2014  United States    16.242526\n",
       "2013  United States    15.853796\n",
       "2012  United States    15.567038\n",
       "2011  United States    15.224555\n",
       "2010  United States    14.992053\n",
       "2009  United States    14.617299\n",
       "2008  United States    14.997756\n",
       "2007  United States    15.018268\n",
       "2006  United States    14.741688\n",
       "2005  United States    14.332500\n",
       "2004  United States    13.846058\n",
       "2003  United States    13.339312\n",
       "2002  United States    12.968263\n",
       "2001  United States    12.746262\n",
       "2000  United States    12.620268\n",
       "2017  Canada            1.868164\n",
       "2016  Canada            1.814016\n",
       "2015  Canada            1.794270\n",
       "2014  Canada            1.782252\n",
       "2013  Canada            1.732714\n",
       "2012  Canada            1.693428\n",
       "2011  Canada            1.664240\n",
       "2010  Canada            1.613543\n",
       "2009  Canada            1.565291\n",
       "2008  Canada            1.612862\n",
       "2007  Canada            1.596876\n",
       "2006  Canada            1.564608\n",
       "2005  Canada            1.524608\n",
       "2004  Canada            1.477317\n",
       "2003  Canada            1.433089\n",
       "2002  Canada            1.407725\n",
       "2001  Canada            1.366590\n",
       "2000  Canada            1.342805\n",
       "Name: GDP, dtype: float64"
      ]
     },
     "execution_count": 103,
     "metadata": {},
     "output_type": "execute_result"
    }
   ],
   "source": [
    "wdi2 = df.set_index([\"year\", \"country\"])\n",
    "\n",
    "wdi2.loc[pd.IndexSlice[:,['United States'],:]]\n",
    "wdi2.loc[pd.IndexSlice[[2010, 2011, 2012],[\"United States\", \"Canada\"],:]]\n",
    "wdi2.loc[pd.IndexSlice[:,[\"United States\", \"Canada\"], :]]['GDP']\n"
   ]
  },
  {
   "cell_type": "markdown",
   "metadata": {},
   "source": [
    "# Exercise 5\n"
   ]
  },
  {
   "cell_type": "code",
   "execution_count": 95,
   "metadata": {},
   "outputs": [
    {
     "data": {
      "text/html": [
       "<div>\n",
       "<style scoped>\n",
       "    .dataframe tbody tr th:only-of-type {\n",
       "        vertical-align: middle;\n",
       "    }\n",
       "\n",
       "    .dataframe tbody tr th {\n",
       "        vertical-align: top;\n",
       "    }\n",
       "\n",
       "    .dataframe thead tr th {\n",
       "        text-align: left;\n",
       "    }\n",
       "</style>\n",
       "<table border=\"1\" class=\"dataframe\">\n",
       "  <thead>\n",
       "    <tr>\n",
       "      <th>country</th>\n",
       "      <th>Canada</th>\n",
       "      <th>Germany</th>\n",
       "      <th>United Kingdom</th>\n",
       "      <th>United States</th>\n",
       "      <th>Canada</th>\n",
       "      <th>Germany</th>\n",
       "      <th>United Kingdom</th>\n",
       "      <th>United States</th>\n",
       "      <th>Canada</th>\n",
       "      <th>Germany</th>\n",
       "      <th>United Kingdom</th>\n",
       "      <th>United States</th>\n",
       "    </tr>\n",
       "    <tr>\n",
       "      <th>year</th>\n",
       "      <th>2010</th>\n",
       "      <th>2010</th>\n",
       "      <th>2010</th>\n",
       "      <th>2010</th>\n",
       "      <th>2012</th>\n",
       "      <th>2012</th>\n",
       "      <th>2012</th>\n",
       "      <th>2012</th>\n",
       "      <th>2014</th>\n",
       "      <th>2014</th>\n",
       "      <th>2014</th>\n",
       "      <th>2014</th>\n",
       "    </tr>\n",
       "  </thead>\n",
       "  <tbody>\n",
       "    <tr>\n",
       "      <th>GovExpend</th>\n",
       "      <td>0.347332</td>\n",
       "      <td>0.653386</td>\n",
       "      <td>0.521146</td>\n",
       "      <td>2.510143</td>\n",
       "      <td>0.354342</td>\n",
       "      <td>0.666454</td>\n",
       "      <td>0.528194</td>\n",
       "      <td>2.398873</td>\n",
       "      <td>0.353485</td>\n",
       "      <td>0.685990</td>\n",
       "      <td>0.538888</td>\n",
       "      <td>2.334071</td>\n",
       "    </tr>\n",
       "    <tr>\n",
       "      <th>Consumption</th>\n",
       "      <td>0.921952</td>\n",
       "      <td>1.915481</td>\n",
       "      <td>1.598563</td>\n",
       "      <td>10.185836</td>\n",
       "      <td>0.961226</td>\n",
       "      <td>1.967390</td>\n",
       "      <td>1.612550</td>\n",
       "      <td>10.534042</td>\n",
       "      <td>1.011988</td>\n",
       "      <td>1.999953</td>\n",
       "      <td>1.675716</td>\n",
       "      <td>11.000619</td>\n",
       "    </tr>\n",
       "    <tr>\n",
       "      <th>Exports</th>\n",
       "      <td>0.469949</td>\n",
       "      <td>1.443735</td>\n",
       "      <td>0.690824</td>\n",
       "      <td>1.846280</td>\n",
       "      <td>0.505969</td>\n",
       "      <td>1.607455</td>\n",
       "      <td>0.745484</td>\n",
       "      <td>2.045509</td>\n",
       "      <td>0.550323</td>\n",
       "      <td>1.712270</td>\n",
       "      <td>0.774022</td>\n",
       "      <td>2.209555</td>\n",
       "    </tr>\n",
       "    <tr>\n",
       "      <th>Imports</th>\n",
       "      <td>0.500341</td>\n",
       "      <td>1.266126</td>\n",
       "      <td>0.745065</td>\n",
       "      <td>2.360183</td>\n",
       "      <td>0.547756</td>\n",
       "      <td>1.354122</td>\n",
       "      <td>0.772692</td>\n",
       "      <td>2.560677</td>\n",
       "      <td>0.572344</td>\n",
       "      <td>1.445409</td>\n",
       "      <td>0.827311</td>\n",
       "      <td>2.732228</td>\n",
       "    </tr>\n",
       "    <tr>\n",
       "      <th>GDP</th>\n",
       "      <td>1.613543</td>\n",
       "      <td>3.417095</td>\n",
       "      <td>2.452900</td>\n",
       "      <td>14.992053</td>\n",
       "      <td>1.693428</td>\n",
       "      <td>3.559587</td>\n",
       "      <td>2.529323</td>\n",
       "      <td>15.567038</td>\n",
       "      <td>1.782252</td>\n",
       "      <td>3.654924</td>\n",
       "      <td>2.657159</td>\n",
       "      <td>16.242526</td>\n",
       "    </tr>\n",
       "  </tbody>\n",
       "</table>\n",
       "</div>"
      ],
      "text/plain": [
       "country        Canada   Germany United Kingdom United States    Canada  \\\n",
       "year             2010      2010           2010          2010      2012   \n",
       "GovExpend    0.347332  0.653386       0.521146      2.510143  0.354342   \n",
       "Consumption  0.921952  1.915481       1.598563     10.185836  0.961226   \n",
       "Exports      0.469949  1.443735       0.690824      1.846280  0.505969   \n",
       "Imports      0.500341  1.266126       0.745065      2.360183  0.547756   \n",
       "GDP          1.613543  3.417095       2.452900     14.992053  1.693428   \n",
       "\n",
       "country       Germany United Kingdom United States    Canada   Germany  \\\n",
       "year             2012           2012          2012      2014      2014   \n",
       "GovExpend    0.666454       0.528194      2.398873  0.353485  0.685990   \n",
       "Consumption  1.967390       1.612550     10.534042  1.011988  1.999953   \n",
       "Exports      1.607455       0.745484      2.045509  0.550323  1.712270   \n",
       "Imports      1.354122       0.772692      2.560677  0.572344  1.445409   \n",
       "GDP          3.559587       2.529323     15.567038  1.782252  3.654924   \n",
       "\n",
       "country     United Kingdom United States  \n",
       "year                  2014          2014  \n",
       "GovExpend         0.538888      2.334071  \n",
       "Consumption       1.675716     11.000619  \n",
       "Exports           0.774022      2.209555  \n",
       "Imports           0.827311      2.732228  \n",
       "GDP               2.657159     16.242526  "
      ]
     },
     "execution_count": 95,
     "metadata": {},
     "output_type": "execute_result"
    }
   ],
   "source": [
    "wdiT = wdi.T\n",
    "wdiT.T.loc[pd.IndexSlice[:,[2010, 2012, 2014],:]].T"
   ]
  },
  {
   "cell_type": "markdown",
   "metadata": {},
   "source": [
    "# Exercise 6"
   ]
  },
  {
   "cell_type": "code",
   "execution_count": 106,
   "metadata": {},
   "outputs": [],
   "source": [
    "wdi.reset_index('year',inplace=True)"
   ]
  },
  {
   "cell_type": "code",
   "execution_count": 107,
   "metadata": {},
   "outputs": [
    {
     "data": {
      "text/html": [
       "<div>\n",
       "<style scoped>\n",
       "    .dataframe tbody tr th:only-of-type {\n",
       "        vertical-align: middle;\n",
       "    }\n",
       "\n",
       "    .dataframe tbody tr th {\n",
       "        vertical-align: top;\n",
       "    }\n",
       "\n",
       "    .dataframe thead th {\n",
       "        text-align: right;\n",
       "    }\n",
       "</style>\n",
       "<table border=\"1\" class=\"dataframe\">\n",
       "  <thead>\n",
       "    <tr style=\"text-align: right;\">\n",
       "      <th></th>\n",
       "      <th>year</th>\n",
       "      <th>GovExpend</th>\n",
       "      <th>Consumption</th>\n",
       "      <th>Exports</th>\n",
       "      <th>Imports</th>\n",
       "      <th>GDP</th>\n",
       "    </tr>\n",
       "  </thead>\n",
       "  <tbody>\n",
       "    <tr>\n",
       "      <th>0</th>\n",
       "      <td>2017</td>\n",
       "      <td>0.372665</td>\n",
       "      <td>1.095475</td>\n",
       "      <td>0.582831</td>\n",
       "      <td>0.600031</td>\n",
       "      <td>1.868164</td>\n",
       "    </tr>\n",
       "    <tr>\n",
       "      <th>1</th>\n",
       "      <td>2016</td>\n",
       "      <td>0.364899</td>\n",
       "      <td>1.058426</td>\n",
       "      <td>0.576394</td>\n",
       "      <td>0.575775</td>\n",
       "      <td>1.814016</td>\n",
       "    </tr>\n",
       "    <tr>\n",
       "      <th>2</th>\n",
       "      <td>2015</td>\n",
       "      <td>0.358303</td>\n",
       "      <td>1.035208</td>\n",
       "      <td>0.568859</td>\n",
       "      <td>0.575793</td>\n",
       "      <td>1.794270</td>\n",
       "    </tr>\n",
       "    <tr>\n",
       "      <th>3</th>\n",
       "      <td>2014</td>\n",
       "      <td>0.353485</td>\n",
       "      <td>1.011988</td>\n",
       "      <td>0.550323</td>\n",
       "      <td>0.572344</td>\n",
       "      <td>1.782252</td>\n",
       "    </tr>\n",
       "    <tr>\n",
       "      <th>4</th>\n",
       "      <td>2013</td>\n",
       "      <td>0.351541</td>\n",
       "      <td>0.986400</td>\n",
       "      <td>0.518040</td>\n",
       "      <td>0.558636</td>\n",
       "      <td>1.732714</td>\n",
       "    </tr>\n",
       "    <tr>\n",
       "      <th>...</th>\n",
       "      <td>...</td>\n",
       "      <td>...</td>\n",
       "      <td>...</td>\n",
       "      <td>...</td>\n",
       "      <td>...</td>\n",
       "      <td>...</td>\n",
       "    </tr>\n",
       "    <tr>\n",
       "      <th>67</th>\n",
       "      <td>2004</td>\n",
       "      <td>2.267999</td>\n",
       "      <td>9.311431</td>\n",
       "      <td>1.335978</td>\n",
       "      <td>2.108585</td>\n",
       "      <td>13.846058</td>\n",
       "    </tr>\n",
       "    <tr>\n",
       "      <th>68</th>\n",
       "      <td>2003</td>\n",
       "      <td>2.233519</td>\n",
       "      <td>8.974708</td>\n",
       "      <td>1.218199</td>\n",
       "      <td>1.892825</td>\n",
       "      <td>13.339312</td>\n",
       "    </tr>\n",
       "    <tr>\n",
       "      <th>69</th>\n",
       "      <td>2002</td>\n",
       "      <td>2.193188</td>\n",
       "      <td>8.698306</td>\n",
       "      <td>1.192180</td>\n",
       "      <td>1.804105</td>\n",
       "      <td>12.968263</td>\n",
       "    </tr>\n",
       "    <tr>\n",
       "      <th>70</th>\n",
       "      <td>2001</td>\n",
       "      <td>2.112038</td>\n",
       "      <td>8.480461</td>\n",
       "      <td>1.213253</td>\n",
       "      <td>1.740797</td>\n",
       "      <td>12.746262</td>\n",
       "    </tr>\n",
       "    <tr>\n",
       "      <th>71</th>\n",
       "      <td>2000</td>\n",
       "      <td>2.040500</td>\n",
       "      <td>8.272097</td>\n",
       "      <td>1.287739</td>\n",
       "      <td>1.790995</td>\n",
       "      <td>12.620268</td>\n",
       "    </tr>\n",
       "  </tbody>\n",
       "</table>\n",
       "<p>72 rows × 6 columns</p>\n",
       "</div>"
      ],
      "text/plain": [
       "    year  GovExpend  Consumption   Exports   Imports        GDP\n",
       "0   2017   0.372665     1.095475  0.582831  0.600031   1.868164\n",
       "1   2016   0.364899     1.058426  0.576394  0.575775   1.814016\n",
       "2   2015   0.358303     1.035208  0.568859  0.575793   1.794270\n",
       "3   2014   0.353485     1.011988  0.550323  0.572344   1.782252\n",
       "4   2013   0.351541     0.986400  0.518040  0.558636   1.732714\n",
       "..   ...        ...          ...       ...       ...        ...\n",
       "67  2004   2.267999     9.311431  1.335978  2.108585  13.846058\n",
       "68  2003   2.233519     8.974708  1.218199  1.892825  13.339312\n",
       "69  2002   2.193188     8.698306  1.192180  1.804105  12.968263\n",
       "70  2001   2.112038     8.480461  1.213253  1.740797  12.746262\n",
       "71  2000   2.040500     8.272097  1.287739  1.790995  12.620268\n",
       "\n",
       "[72 rows x 6 columns]"
      ]
     },
     "execution_count": 107,
     "metadata": {},
     "output_type": "execute_result"
    }
   ],
   "source": [
    "wdi.reset_index('country',drop=True,inplace=True)\n",
    "wdi"
   ]
  }
 ],
 "metadata": {
  "interpreter": {
   "hash": "42ff23dbe977b9aa89de6fe163987a5567cd3a9578f633d194f16c962c7b3364"
  },
  "kernelspec": {
   "display_name": "Python 3.9.4 ('May-June_Proj')",
   "language": "python",
   "name": "python3"
  },
  "language_info": {
   "codemirror_mode": {
    "name": "ipython",
    "version": 3
   },
   "file_extension": ".py",
   "mimetype": "text/x-python",
   "name": "python",
   "nbconvert_exporter": "python",
   "pygments_lexer": "ipython3",
   "version": "3.8.5"
  },
  "orig_nbformat": 4
 },
 "nbformat": 4,
 "nbformat_minor": 2
}
