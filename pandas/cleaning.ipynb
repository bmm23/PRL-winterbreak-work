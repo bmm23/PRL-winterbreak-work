{
 "cells": [
  {
   "cell_type": "code",
   "execution_count": 20,
   "metadata": {},
   "outputs": [],
   "source": [
    "import pandas as pd\n",
    "import numpy as np\n"
   ]
  },
  {
   "cell_type": "code",
   "execution_count": 21,
   "metadata": {},
   "outputs": [],
   "source": [
    "url = \"https://datascience.quantecon.org/assets/data/chipotle_raw.csv.zip\"\n",
    "chipotle = pd.read_csv(url)"
   ]
  },
  {
   "cell_type": "markdown",
   "metadata": {},
   "source": [
    "# Exercise 1"
   ]
  },
  {
   "cell_type": "code",
   "execution_count": 22,
   "metadata": {},
   "outputs": [
    {
     "data": {
      "text/plain": [
       "int"
      ]
     },
     "execution_count": 22,
     "metadata": {},
     "output_type": "execute_result"
    }
   ],
   "source": [
    "c2n = '#39'\n",
    "c2n = c2n.replace('#','')\n",
    "c2n = int(c2n)\n",
    "type(c2n)"
   ]
  },
  {
   "cell_type": "markdown",
   "metadata": {},
   "source": [
    "# Exercise 2"
   ]
  },
  {
   "cell_type": "code",
   "execution_count": 23,
   "metadata": {},
   "outputs": [],
   "source": [
    "df = pd.DataFrame({\"numbers\": [\"#23\", \"#24\", \"#18\", \"#14\", \"#12\", \"#10\", \"#35\"],\n",
    "                   \"nums\": [\"23\", \"24\", \"18\", \"14\", '14', \"XYZ\", \"35\"],\n",
    "                   \"colors\": [\"green\", \"red\", \"yellow\", \"orange\", \"purple\", \"blue\", \"pink\"],\n",
    "                   \"other_column\": [0, 1, 0, 2, 1, 0, 2]})\n",
    "df['colors_upper'] = df['colors'].str.upper()"
   ]
  },
  {
   "cell_type": "markdown",
   "metadata": {},
   "source": [
    "# Exercise 3\n"
   ]
  },
  {
   "cell_type": "code",
   "execution_count": 24,
   "metadata": {},
   "outputs": [
    {
     "data": {
      "text/plain": [
       "0     23\n",
       "1     24\n",
       "2     18\n",
       "3     14\n",
       "4     14\n",
       "5    XYZ\n",
       "6     35\n",
       "Name: nums, dtype: object"
      ]
     },
     "execution_count": 24,
     "metadata": {},
     "output_type": "execute_result"
    }
   ],
   "source": [
    "df['nums']\n"
   ]
  },
  {
   "cell_type": "markdown",
   "metadata": {},
   "source": [
    "This cannot be casted as numeric because the XYZ blocks the operation. If it is forcefully casted, then there will be a missing piece of data"
   ]
  },
  {
   "cell_type": "markdown",
   "metadata": {},
   "source": [
    "# Exercise 4\n"
   ]
  },
  {
   "cell_type": "code",
   "execution_count": 25,
   "metadata": {},
   "outputs": [
    {
     "name": "stdout",
     "output_type": "stream",
     "text": [
      "Mean Price: $7.46\n"
     ]
    },
    {
     "name": "stderr",
     "output_type": "stream",
     "text": [
      "C:\\Users\\Brendan\\AppData\\Local\\Temp/ipykernel_19236/438381118.py:1: FutureWarning: The default value of regex will change from True to False in a future version. In addition, single character regular expressions will *not* be treated as literal strings when regex=True.\n",
      "  chipotle['item_price'] = chipotle['item_price'].str.replace('$','')\n"
     ]
    }
   ],
   "source": [
    "#chipotle['item_price'] = chipotle['item_price'].str.replace('$','')\n",
    "chipotle['item_price'] = chipotle['item_price'].astype(float)\n",
    "mean_price = chipotle['item_price'].mean()\n",
    "print(f'Mean Price: ${mean_price:.2f}')\n",
    "allItems = chipotle['item_name'].unique()\n",
    "steakItems = [str(item) for item in allItems if 'steak' in item or 'Steak' in item]"
   ]
  },
  {
   "cell_type": "code",
   "execution_count": 50,
   "metadata": {},
   "outputs": [],
   "source": [
    "chickenitems = [str(item) for item in allItems if 'chicken' in item.split() or 'Chicken' in item.split()]"
   ]
  },
  {
   "cell_type": "code",
   "execution_count": 51,
   "metadata": {},
   "outputs": [],
   "source": [
    "steakDF = chipotle.loc[chipotle['item_name'].isin(steakItems)]"
   ]
  },
  {
   "cell_type": "code",
   "execution_count": 52,
   "metadata": {},
   "outputs": [],
   "source": [
    "chickenDF = chipotle.loc[chipotle['item_name'].isin(chickenitems)]"
   ]
  },
  {
   "cell_type": "code",
   "execution_count": 54,
   "metadata": {},
   "outputs": [
    {
     "name": "stdout",
     "output_type": "stream",
     "text": [
      "Mean Steak Price:   $10.52\n",
      "Mean Chicken price: $10.13\n"
     ]
    }
   ],
   "source": [
    "meanSteakPrice = steakDF.item_price.mean()\n",
    "meanChickenPrice = chickenDF.item_price.mean()\n",
    "\n",
    "print(f'Mean Steak Price:   ${meanSteakPrice:.2f}')\n",
    "print(f'Mean Chicken price: ${meanChickenPrice:.2f}')"
   ]
  },
  {
   "cell_type": "markdown",
   "metadata": {},
   "source": [
    "Steak has a higher avg price\n"
   ]
  },
  {
   "cell_type": "code",
   "execution_count": 57,
   "metadata": {},
   "outputs": [
    {
     "name": "stdout",
     "output_type": "stream",
     "text": [
      "Steak Revenue:   $7384.26\n",
      "Chicken Revenue: $15808.61\n"
     ]
    }
   ],
   "source": [
    "steakRevenue = steakDF.item_price.sum()\n",
    "chickRevenue = chickenDF.item_price.sum()\n",
    "\n",
    "print(f'Steak Revenue:   ${steakRevenue:.2f}')\n",
    "print(f'Chicken Revenue: ${chickRevenue:.2f}')"
   ]
  },
  {
   "cell_type": "markdown",
   "metadata": {},
   "source": [
    "Chicken produced substantially more revenue"
   ]
  }
 ],
 "metadata": {
  "interpreter": {
   "hash": "b1c77693401acacf8514caa54e61c2fc37284d431992bf60671775e5dab4ab60"
  },
  "kernelspec": {
   "display_name": "Python 3.8.5 ('base')",
   "language": "python",
   "name": "python3"
  },
  "language_info": {
   "codemirror_mode": {
    "name": "ipython",
    "version": 3
   },
   "file_extension": ".py",
   "mimetype": "text/x-python",
   "name": "python",
   "nbconvert_exporter": "python",
   "pygments_lexer": "ipython3",
   "version": "3.8.5"
  },
  "orig_nbformat": 4
 },
 "nbformat": 4,
 "nbformat_minor": 2
}
