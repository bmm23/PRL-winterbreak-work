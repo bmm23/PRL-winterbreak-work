{
 "cells": [
  {
   "cell_type": "code",
   "execution_count": 2,
   "metadata": {},
   "outputs": [],
   "source": [
    "import numpy as np\n",
    "import matplotlib.pyplot as plt\n",
    "\n",
    "%matplotlib inline"
   ]
  },
  {
   "cell_type": "code",
   "execution_count": 3,
   "metadata": {},
   "outputs": [],
   "source": [
    "x = np.array([1, 2, 3])\n",
    "y = np.array([4, 5, 6])"
   ]
  },
  {
   "cell_type": "code",
   "execution_count": 4,
   "metadata": {},
   "outputs": [],
   "source": [
    "I = np.eye(3)\n",
    "x = np.reshape(np.arange(9), (3, 3))\n",
    "y = np.array([1, 2, 3])\n",
    "\n"
   ]
  },
  {
   "cell_type": "code",
   "execution_count": 5,
   "metadata": {},
   "outputs": [
    {
     "name": "stdout",
     "output_type": "stream",
     "text": [
      "33.3\n"
     ]
    }
   ],
   "source": [
    "portfolio = np.array([[4, 3],[2.5,3],[8,1.1]])\n",
    "portfolioBetter = np.array([[4,2.5,8],[3,5,1.1]])\n",
    "x=portfolioBetter[0]\n",
    "y = portfolioBetter[1]\n",
    "\n",
    "print(x@y)"
   ]
  },
  {
   "cell_type": "code",
   "execution_count": 17,
   "metadata": {},
   "outputs": [
    {
     "name": "stdout",
     "output_type": "stream",
     "text": [
      "[[2. 2. 2. 2.]\n",
      " [2. 2. 2. 2.]\n",
      " [2. 2. 2. 2.]\n",
      " [2. 2. 2. 2.]]\n",
      "[[3. 2. 2. 2.]\n",
      " [3. 1. 1. 1.]\n",
      " [3. 1. 1. 1.]\n",
      " [3. 1. 1. 1.]]\n"
     ]
    }
   ],
   "source": [
    "test = np.ones((4,4))\n",
    "print(test * 2)\n",
    "test[0] = test[0] * 2\n",
    "test[0:, 0] = 3\n",
    "\n",
    "print(test)"
   ]
  },
  {
   "cell_type": "code",
   "execution_count": 23,
   "metadata": {},
   "outputs": [
    {
     "name": "stdout",
     "output_type": "stream",
     "text": [
      "[[1. 1. 1.]\n",
      " [5. 5. 5.]\n",
      " [9. 9. 9.]]\n"
     ]
    }
   ],
   "source": [
    "x1 = np.reshape(np.arange(6), (3, 2))\n",
    "x2 = np.array([[1, 2], [3, 4], [5, 6], [7, 8]])\n",
    "x3 = np.array([[2, 5, 2], [1, 2, 1]])\n",
    "x4 = np.ones((2, 3))\n",
    "\n",
    "y1 = np.array([1, 2, 3])\n",
    "y2 = np.array([0.5, 0.5])\n",
    "\n",
    "print(np.dot(x1, x4))\n",
    "\n"
   ]
  },
  {
   "cell_type": "code",
   "execution_count": 98,
   "metadata": {},
   "outputs": [
    {
     "name": "stdout",
     "output_type": "stream",
     "text": [
      "20\n"
     ]
    }
   ],
   "source": [
    "def productionMatrix(year, production, productionDiscount, npvRate):\n",
    "    prodMatrix =  np.array([\n",
    "        ((1-productionDiscount)**(year - 1))*(production) * 1/((1 + npvRate) ** (year-1))\n",
    "\n",
    "        for year in np.arange(1, year + 1)\n",
    "    ])\n",
    "    return prodMatrix\n",
    "\n",
    "print(np.size((productionMatrix(20,5,0.2,0.05))))\n"
   ]
  },
  {
   "cell_type": "code",
   "execution_count": 99,
   "metadata": {},
   "outputs": [
    {
     "name": "stdout",
     "output_type": "stream",
     "text": [
      "34.2672564874775\n"
     ]
    }
   ],
   "source": [
    "years = 20\n",
    "\n",
    "rateA = 0.2\n",
    "productionA = 5\n",
    "\n",
    "productionB = 2\n",
    "rateB = 0.1\n",
    "\n",
    "discount = 0.05\n",
    "\n",
    "\n",
    "print(np.sum(productionMatrix(years, productionA, rateA, discount)) + np.sum(productionMatrix(years, productionB, rateB, discount)))"
   ]
  }
 ],
 "metadata": {
  "interpreter": {
   "hash": "b1c77693401acacf8514caa54e61c2fc37284d431992bf60671775e5dab4ab60"
  },
  "kernelspec": {
   "display_name": "Python 3.8.5 64-bit ('base': conda)",
   "language": "python",
   "name": "python3"
  },
  "language_info": {
   "codemirror_mode": {
    "name": "ipython",
    "version": 3
   },
   "file_extension": ".py",
   "mimetype": "text/x-python",
   "name": "python",
   "nbconvert_exporter": "python",
   "pygments_lexer": "ipython3",
   "version": "3.8.5"
  },
  "orig_nbformat": 4
 },
 "nbformat": 4,
 "nbformat_minor": 2
}
