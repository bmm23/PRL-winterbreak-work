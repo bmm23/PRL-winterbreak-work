{
 "cells": [
  {
   "cell_type": "code",
   "execution_count": 2,
   "metadata": {},
   "outputs": [],
   "source": [
    "import numpy as np\n",
    "import matplotlib.pyplot as plt\n",
    "\n",
    "%matplotlib inline"
   ]
  },
  {
   "cell_type": "code",
   "execution_count": 3,
   "metadata": {},
   "outputs": [],
   "source": [
    "x = np.array([1, 2, 3])\n",
    "y = np.array([4, 5, 6])"
   ]
  },
  {
   "cell_type": "code",
   "execution_count": 5,
   "metadata": {},
   "outputs": [],
   "source": [
    "I = np.eye(3)\n",
    "x = np.reshape(np.arange(9), (3, 3))\n",
    "y = np.array([1, 2, 3])\n",
    "\n"
   ]
  },
  {
   "cell_type": "code",
   "execution_count": 6,
   "metadata": {},
   "outputs": [
    {
     "name": "stdout",
     "output_type": "stream",
     "text": [
      "33.3\n"
     ]
    }
   ],
   "source": [
    "portfolio = np.array([[4, 3],[2.5,3],[8,1.1]])\n",
    "portfolioBetter = np.array([[4,2.5,8],[3,5,1.1]])\n",
    "x=portfolioBetter[0]\n",
    "y = portfolioBetter[1]\n",
    "\n",
    "print(x@y)"
   ]
  },
  {
   "cell_type": "code",
   "execution_count": 7,
   "metadata": {},
   "outputs": [
    {
     "name": "stdout",
     "output_type": "stream",
     "text": [
      "[[2. 2. 2. 2.]\n",
      " [2. 2. 2. 2.]\n",
      " [2. 2. 2. 2.]\n",
      " [2. 2. 2. 2.]]\n",
      "[[3. 2. 2. 2.]\n",
      " [3. 1. 1. 1.]\n",
      " [3. 1. 1. 1.]\n",
      " [3. 1. 1. 1.]]\n"
     ]
    }
   ],
   "source": [
    "test = np.ones((4,4))\n",
    "print(test * 2)\n",
    "test[0] = test[0] * 2\n",
    "test[0:, 0] = 3\n",
    "\n",
    "print(test)"
   ]
  },
  {
   "cell_type": "code",
   "execution_count": 8,
   "metadata": {},
   "outputs": [
    {
     "name": "stdout",
     "output_type": "stream",
     "text": [
      "[[1. 1. 1.]\n",
      " [5. 5. 5.]\n",
      " [9. 9. 9.]]\n"
     ]
    }
   ],
   "source": [
    "x1 = np.reshape(np.arange(6), (3, 2))\n",
    "x2 = np.array([[1, 2], [3, 4], [5, 6], [7, 8]])\n",
    "x3 = np.array([[2, 5, 2], [1, 2, 1]])\n",
    "x4 = np.ones((2, 3))\n",
    "\n",
    "y1 = np.array([1, 2, 3])\n",
    "y2 = np.array([0.5, 0.5])\n",
    "\n",
    "print(np.dot(x1, x4))\n",
    "\n"
   ]
  },
  {
   "cell_type": "code",
   "execution_count": 9,
   "metadata": {},
   "outputs": [
    {
     "name": "stdout",
     "output_type": "stream",
     "text": [
      "20\n"
     ]
    }
   ],
   "source": [
    "#my work (helper function)\n",
    "\n",
    "def productionMatrix(year, production, productionDiscount, npvRate):\n",
    "    prodMatrix =  np.array([\n",
    "        ((1-productionDiscount)**(year - 1))*(production) * 1/((1 + npvRate) ** (year-1))\n",
    "\n",
    "        for year in np.arange(1, year + 1)\n",
    "    ])\n",
    "    return prodMatrix\n",
    "\n",
    "print(np.size((productionMatrix(20,5,0.2,0.05))))\n"
   ]
  },
  {
   "cell_type": "code",
   "execution_count": 10,
   "metadata": {},
   "outputs": [
    {
     "name": "stdout",
     "output_type": "stream",
     "text": [
      "34.2672564874775\n"
     ]
    }
   ],
   "source": [
    "#my work\n",
    "\n",
    "years = 20\n",
    "\n",
    "rateA = 0.2\n",
    "productionA = 5\n",
    "\n",
    "productionB = 2\n",
    "rateB = 0.1\n",
    "\n",
    "discount = 0.05\n",
    "\n",
    "\n",
    "print(np.sum(productionMatrix(years, productionA, rateA, discount)) + np.sum(productionMatrix(years, productionB, rateB, discount)))"
   ]
  },
  {
   "cell_type": "code",
   "execution_count": 11,
   "metadata": {},
   "outputs": [
    {
     "name": "stdout",
     "output_type": "stream",
     "text": [
      "The npv of oilfields is 34.2672564874775\n"
     ]
    }
   ],
   "source": [
    "# website work\n",
    "\n",
    "# Depreciation of production rates\n",
    "gamma_A = 0.80\n",
    "gamma_B = 0.90\n",
    "\n",
    "# Interest rate discounting\n",
    "r = 0.05\n",
    "discount = np.array([(1 / (1+r))**t for t in range(20)])\n",
    "\n",
    "# Let's first create arrays that have the production of each oilfield\n",
    "oil_A = 5 * np.array([gamma_A**t for t in range(20)])\n",
    "oil_B = 2 * np.array([gamma_B**t for t in range(20)])\n",
    "oilfields = np.array([oil_A, oil_B])\n",
    "\n",
    "# Use matrix multiplication to get discounted sum of oilfield values and then sum\n",
    "# the two values\n",
    "Vs = oilfields @ discount\n",
    "\n",
    "print(f\"The npv of oilfields is {Vs.sum()}\")"
   ]
  },
  {
   "cell_type": "code",
   "execution_count": 12,
   "metadata": {},
   "outputs": [
    {
     "data": {
      "image/png": "[encoded data removed]",
      "text/plain": [
       "<Figure size 432x288 with 1 Axes>"
      ]
     },
     "metadata": {
      "needs_background": "light"
     },
     "output_type": "display_data"
    }
   ],
   "source": [
    "#website infinite horizon work \n",
    "# Depreciation of production rates\n",
    "gamma_A = 0.80\n",
    "gamma_B = 0.90\n",
    "\n",
    "# Interest rate discounting\n",
    "r = 0.05\n",
    "\n",
    "\n",
    "def infhor_NPV_oilfield(starting_output, gamma, r):\n",
    "    beta = gamma / (1 + r)\n",
    "    return starting_output / (1 - beta)\n",
    "\n",
    "\n",
    "def compute_NPV_oilfield(starting_output, gamma, r, T):\n",
    "    outputs = starting_output * np.array([gamma**t for t in range(T)])\n",
    "    discount = np.array([(1 / (1+r))**t for t in range(T)])\n",
    "\n",
    "    npv = np.dot(outputs, discount)\n",
    "\n",
    "    return npv\n",
    "\n",
    "Ts = np.arange(2, 75)\n",
    "\n",
    "NPVs_A = np.array([compute_NPV_oilfield(5, gamma_A, r, t) for t in Ts])\n",
    "NPVs_B = np.array([compute_NPV_oilfield(2, gamma_B, r, t) for t in Ts])\n",
    "\n",
    "NPVs_T = NPVs_A + NPVs_B\n",
    "NPV_oo = infhor_NPV_oilfield(5, gamma_A, r) + infhor_NPV_oilfield(2, gamma_B, r)\n",
    "\n",
    "fig, ax = plt.subplots()\n",
    "\n",
    "ax.set_title(\"NPV with Varying T\")\n",
    "ax.set_ylabel(\"NPV\")\n",
    "\n",
    "ax.plot(Ts, NPVs_A + NPVs_B)\n",
    "ax.hlines(NPV_oo, Ts[0], Ts[-1], color=\"k\", linestyle=\"--\")  # Plot infinite horizon value\n",
    "\n",
    "ax.spines[\"right\"].set_visible(False)\n",
    "ax.spines[\"top\"].set_visible(False)"
   ]
  },
  {
   "cell_type": "code",
   "execution_count": 13,
   "metadata": {},
   "outputs": [],
   "source": [
    "#more website work\n",
    "\n",
    "p_A = 1.0\n",
    "p_B = 1.0\n",
    "G = np.array([p_A, p_B])\n",
    "\n",
    "r = 0.05\n",
    "beta = 1 / (1 + r)\n",
    "\n",
    "gamma_A = 0.80\n",
    "gamma_B = 0.90\n",
    "A = np.array([[gamma_A, 0], [0, gamma_B]])\n",
    "\n",
    "x_0 = np.array([5, 2])\n",
    "\n",
    "# Compute with matrix formula\n",
    "NPV_mf = G @ np.linalg.inv(np.eye(2) - beta*A) @ x_0\n",
    "#see website/personal notes for what this actually means\n",
    "#can skip annoying for loops\n",
    "\n"
   ]
  },
  {
   "cell_type": "code",
   "execution_count": 14,
   "metadata": {},
   "outputs": [
    {
     "name": "stdout",
     "output_type": "stream",
     "text": [
      "[[900000.         100000.        ]\n",
      " [865000.         135000.        ]\n",
      " [835250.         164750.        ]\n",
      " [809962.5        190037.5       ]\n",
      " [788468.125      211531.875     ]\n",
      " [770197.90625    229802.09375   ]\n",
      " [754668.2203125  245331.7796875 ]\n",
      " [741467.98726562 258532.01273437]\n",
      " [730247.78917578 269752.21082422]\n",
      " [720710.62079941 279289.37920059]]\n"
     ]
    }
   ],
   "source": [
    "#personal work\n",
    "\n",
    "alpha = 0.05\n",
    "phi = 0.10\n",
    "T = 10\n",
    "\n",
    "initialEmployment = np.array([900_000, 100_000])\n",
    "\n",
    "\n",
    "\n",
    "matrixA = np.array([[1-alpha, alpha],[phi, 1-phi]])\n",
    "beginMatrix = np.zeros([T,np.size(initialEmployment)])\n",
    "\n",
    "beginMatrix[0, :] = initialEmployment\n",
    "for t in range(1,T):\n",
    "    beginMatrix[t, :] = (matrixA.T) @ beginMatrix[t-1, :] \n",
    "    \n",
    "print(beginMatrix)"
   ]
  },
  {
   "cell_type": "code",
   "execution_count": 15,
   "metadata": {},
   "outputs": [],
   "source": [
    "#website work\n",
    "phi = 0.1\n",
    "alpha = 0.05\n",
    "\n",
    "x0 = np.array([900_000, 100_000])\n",
    "\n",
    "A = np.array([[1-alpha, alpha], [phi, 1-phi]])\n",
    "\n",
    "def simulate(x0, A, T=10):\n",
    "    \"\"\"\n",
    "    Simulate the dynamics of unemployment for T periods starting from x0\n",
    "    and using values of A for probabilities of moving between employment\n",
    "    and unemployment\n",
    "    \"\"\"\n",
    "    nX = x0.shape[0]\n",
    "    out = np.zeros((T, nX))\n",
    "    out[0, :] = x0\n",
    "    for t in range(1, T):\n",
    "        out[t, :] = A.T @ out[t-1, :]\n",
    "\n",
    "    return out\n",
    "\n",
    "\n",
    "def plot_simulation(x0, A, T=100):\n",
    "    X = simulate(x0, A, T)\n",
    "    fig, ax = plt.subplots()\n",
    "    ax.plot(X[:, 0])\n",
    "    ax.plot(X[:, 1])\n",
    "    ax.set_xlabel(\"t\")\n",
    "    ax.legend([\"Employed\", \"Unemployed\"])\n",
    "    return ax\n",
    "\n",
    "#plot_simulation(x0, A, 50)"
   ]
  },
  {
   "cell_type": "code",
   "execution_count": 39,
   "metadata": {},
   "outputs": [
    {
     "name": "stdout",
     "output_type": "stream",
     "text": [
      "799421.5005946227\n",
      "892502.7013288846\n"
     ]
    }
   ],
   "source": [
    "#alice problem (no lin alg)\n",
    "\n",
    "def value(terms, i, units, coupon):\n",
    "    begin = []\n",
    "    \n",
    "\n",
    "    for term in range(0, terms):\n",
    "        deflator = (1/(1+i)**term)\n",
    "        begin.append(coupon * deflator)\n",
    "    return units * np.sum(np.array(begin))\n",
    "\n",
    "i = 0.05\n",
    "\n",
    "unitsA = 100\n",
    "unitsB = 50\n",
    "\n",
    "durationA = 6\n",
    "durationB = 4\n",
    "\n",
    "couponA = 1500\n",
    "couponB = 500\n",
    "print(value(durationA, i, unitsA, couponA))\n",
    "\n",
    "print(value(durationA, i, unitsA, couponA)+ value(durationB, i, unitsB, couponB))\n",
    "\n"
   ]
  },
  {
   "cell_type": "code",
   "execution_count": 54,
   "metadata": {},
   "outputs": [
    {
     "name": "stdout",
     "output_type": "stream",
     "text": [
      "892502.7013288848\n"
     ]
    }
   ],
   "source": [
    "def value(terms, i, units, coupon):\n",
    "    priceArray = np.zeros(shape=(1,terms))\n",
    "    for year in range(0,terms):\n",
    "        deflator = (1/(1+i)**year)\n",
    "        priceArray[0,year] = coupon * deflator\n",
    "    return np.sum(np.array([units]) @ priceArray) \n",
    "\n",
    "print(value(durationA, i, unitsA, couponA)+ value(durationB, i, unitsB, couponB))"
   ]
  }
 ],
 "metadata": {
  "interpreter": {
   "hash": "b1c77693401acacf8514caa54e61c2fc37284d431992bf60671775e5dab4ab60"
  },
  "kernelspec": {
   "display_name": "Python 3.8.5 64-bit ('base': conda)",
   "language": "python",
   "name": "python3"
  },
  "language_info": {
   "codemirror_mode": {
    "name": "ipython",
    "version": 3
   },
   "file_extension": ".py",
   "mimetype": "text/x-python",
   "name": "python",
   "nbconvert_exporter": "python",
   "pygments_lexer": "ipython3",
   "version": "3.8.5"
  },
  "orig_nbformat": 4
 },
 "nbformat": 4,
 "nbformat_minor": 2
}
