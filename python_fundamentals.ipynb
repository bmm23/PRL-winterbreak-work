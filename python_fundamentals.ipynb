{
 "cells": [
  {
   "cell_type": "code",
   "execution_count": 16,
   "metadata": {},
   "outputs": [],
   "source": [
    "def futureValue(presentVal, interestRate, terms):\n",
    "    return (presentVal*((1+interestRate)**terms))\n",
    "\n",
    "def presentValue(futureValue, interestRate, terms):\n",
    "    deflator = (1/((1+interestRate)**terms))\n",
    "\n",
    "    return futureValue*deflator\n",
    "\n",
    "def netPresentValue(cost, payoff, interestRate, terms):\n",
    "    totalVal = 0 - cost\n",
    "    for term in range(0,terms+1):\n",
    "        totalVal += (payoff) * (1/((1+interestRate)**term))\n",
    "    return totalVal\n",
    "\n"
   ]
  },
  {
   "cell_type": "code",
   "execution_count": 11,
   "metadata": {},
   "outputs": [
    {
     "name": "stdout",
     "output_type": "stream",
     "text": [
      "good afternoon\n"
     ]
    }
   ],
   "source": [
    "import datetime as dt\n",
    "\n",
    "if (dt.datetime.now().hour) >= 12:\n",
    "    print('good afternoon')"
   ]
  },
  {
   "cell_type": "code",
   "execution_count": 18,
   "metadata": {},
   "outputs": [
    {
     "name": "stdout",
     "output_type": "stream",
     "text": [
      "student should go to college, college value: 887954.3176997218\n"
     ]
    }
   ],
   "source": [
    "# Discount rate\n",
    "r = 0.05\n",
    "\n",
    "# High school wage\n",
    "w_hs = 40000\n",
    "\n",
    "\n",
    "# College wage and cost of college\n",
    "c_college = 5000\n",
    "w_college = 50000\n",
    "\n",
    "netCollegeVal = netPresentValue(20000,w_college,r,40)\n",
    "netHSVal = netPresentValue(0,w_hs,r,40)\n",
    "\n",
    "if netCollegeVal >  netHSVal:\n",
    "    print('student should go to college, college value: {}'.format(netCollegeVal))\n",
    "else:\n",
    "    print('skip college')\n",
    "\n"
   ]
  },
  {
   "cell_type": "code",
   "execution_count": 20,
   "metadata": {},
   "outputs": [
    {
     "name": "stdout",
     "output_type": "stream",
     "text": [
      "Phoenix is in Arizona\n",
      "Austin is in Texas\n",
      "San Diego is in California\n",
      "New York is in New York\n"
     ]
    }
   ],
   "source": [
    "cities = [\"Phoenix\", \"Austin\", \"San Diego\", \"New York\"]\n",
    "states = [\"Arizona\", \"Texas\", \"California\", \"New York\"]\n",
    "\n",
    "cityDict = dict(zip(cities, states))\n",
    "for city in cityDict.keys():\n",
    "    print('{} is in {}'.format(city, cityDict[city]))"
   ]
  },
  {
   "cell_type": "code",
   "execution_count": 21,
   "metadata": {},
   "outputs": [
    {
     "name": "stdout",
     "output_type": "stream",
     "text": [
      "10\n"
     ]
    }
   ],
   "source": [
    "# Define cost of teaching python\n",
    "cost = 25_000\n",
    "r = 0.01\n",
    "\n",
    "# Per month value\n",
    "added_value = 2500\n",
    "\n",
    "n_months = 0\n",
    "total_npv = 0.0\n",
    "\n",
    "# Put condition below here\n",
    "while True:    \n",
    "    if(netPresentValue(cost,added_value,r,n_months)) > 0:\n",
    "        print(n_months)\n",
    "        break\n",
    "    n_months +=1"
   ]
  }
 ],
 "metadata": {
  "interpreter": {
   "hash": "b1c77693401acacf8514caa54e61c2fc37284d431992bf60671775e5dab4ab60"
  },
  "kernelspec": {
   "display_name": "Python 3.8.5 64-bit ('base': conda)",
   "language": "python",
   "name": "python3"
  },
  "language_info": {
   "codemirror_mode": {
    "name": "ipython",
    "version": 3
   },
   "file_extension": ".py",
   "mimetype": "text/x-python",
   "name": "python",
   "nbconvert_exporter": "python",
   "pygments_lexer": "ipython3",
   "version": "3.8.5"
  },
  "orig_nbformat": 4
 },
 "nbformat": 4,
 "nbformat_minor": 2
}
